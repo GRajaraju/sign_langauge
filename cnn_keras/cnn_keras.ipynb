{
 "cells": [
  {
   "cell_type": "code",
   "execution_count": 1,
   "metadata": {},
   "outputs": [],
   "source": [
    "import os, shutil"
   ]
  },
  {
   "cell_type": "code",
   "execution_count": 2,
   "metadata": {},
   "outputs": [],
   "source": [
    "dataset_directory = '/Users/rajaraju/Downloads/Birds/'"
   ]
  },
  {
   "cell_type": "code",
   "execution_count": 5,
   "metadata": {},
   "outputs": [],
   "source": [
    "base_directory = '/Users/rajaraju/Downloads/cuckoo_and_sparrow'\n",
    "os.mkdir(base_directory)"
   ]
  },
  {
   "cell_type": "code",
   "execution_count": 13,
   "metadata": {},
   "outputs": [],
   "source": [
    "train_dir = os.path.join(base_directory,'train')\n",
    "os.mkdir(train_dir)\n",
    "test_dir = os.path.join(base_directory,'test')\n",
    "os.mkdir(test_dir)\n",
    "\n",
    "train_cuckoo_dir = os.path.join(train_dir, 'cuckoo')\n",
    "os.mkdir(train_cuckoo_dir)\n",
    "\n",
    "train_sparrow_dir = os.path.join(train_dir, 'sparrow')\n",
    "os.mkdir(train_sparrow_dir)\n",
    "\n",
    "test_cuckoo_dir = os.path.join(test_dir, 'cuckoo')\n",
    "os.mkdir(test_cuckoo_dir)\n",
    "\n",
    "test_sparrow_dir = os.path.join(test_dir, 'sparrow')\n",
    "os.mkdir(test_sparrow_dir)\n"
   ]
  },
  {
   "cell_type": "code",
   "execution_count": 45,
   "metadata": {},
   "outputs": [],
   "source": [
    "filenames = ['cuckoo{}.jpg'.format(i) for i in range(1,16)]\n",
    "for i,filename in enumerate(filenames):\n",
    "    src = os.path.join(dataset_directory + 'cuckoo', 'pic{}.jpg'.format(i+1))\n",
    "    dst = os.path.join(train_cuckoo_dir, filename)\n",
    "    shutil.copyfile(src,dst)\n",
    "    \n",
    "filenames = ['cuckoo{}.jpg'.format(i) for i in range(16,21)]\n",
    "for i,filename in enumerate(filenames):\n",
    "    src = os.path.join(dataset_directory + 'cuckoo', 'pic{}.jpg'.format(i+16))\n",
    "    dst = os.path.join(test_cuckoo_dir, filename)\n",
    "    shutil.copyfile(src,dst)\n",
    "    \n",
    "filenames = ['sparrow{}.jpg'.format(i) for i in range(1,16)]\n",
    "for i,filename in enumerate(filenames):\n",
    "    src = os.path.join(dataset_directory + 'sparrow', 'pic{}.jpg'.format(i+1))\n",
    "    dst = os.path.join(train_sparrow_dir, filename)\n",
    "    shutil.copyfile(src,dst)\n",
    "    \n",
    "filenames = ['sparrow{}.jpg'.format(i) for i in range(16,21)]\n",
    "for i,filename in enumerate(filenames):\n",
    "    src = os.path.join(dataset_directory + 'sparrow', 'pic{}.jpg'.format(i+16))\n",
    "    dst = os.path.join(test_sparrow_dir, filename)\n",
    "    shutil.copyfile(src,dst)"
   ]
  },
  {
   "cell_type": "code",
   "execution_count": 54,
   "metadata": {},
   "outputs": [],
   "source": [
    "from keras import layers\n",
    "from keras import models"
   ]
  },
  {
   "cell_type": "code",
   "execution_count": 55,
   "metadata": {},
   "outputs": [
    {
     "name": "stdout",
     "output_type": "stream",
     "text": [
      "WARNING:tensorflow:From /Users/rajaraju/.virtualenvs/DeepLearning/lib/python3.5/site-packages/keras/backend/tensorflow_backend.py:1205: calling reduce_prod (from tensorflow.python.ops.math_ops) with keep_dims is deprecated and will be removed in a future version.\n",
      "Instructions for updating:\n",
      "keep_dims is deprecated, use keepdims instead\n"
     ]
    }
   ],
   "source": [
    "model = models.Sequential()\n",
    "model.add(layers.Conv2D(32,(3,3), activation='relu',input_shape=(150,150,3)))\n",
    "model.add(layers.MaxPool2D((2,2)))\n",
    "model.add(layers.Conv2D(64,(3,3),activation='relu'))\n",
    "model.add(layers.MaxPool2D((2,2)))\n",
    "model.add(layers.Conv2D(128,(3,3),activation='relu'))\n",
    "model.add(layers.MaxPool2D((2,2)))\n",
    "model.add(layers.Conv2D(128,(3,3),activation='relu'))\n",
    "model.add(layers.MaxPool2D((2,2)))\n",
    "model.add(layers.Flatten())\n",
    "model.add(layers.Dense(512,activation='relu'))\n",
    "model.add(layers.Dense(1,activation='sigmoid'))"
   ]
  },
  {
   "cell_type": "code",
   "execution_count": 57,
   "metadata": {},
   "outputs": [
    {
     "name": "stdout",
     "output_type": "stream",
     "text": [
      "_________________________________________________________________\n",
      "Layer (type)                 Output Shape              Param #   \n",
      "=================================================================\n",
      "conv2d_1 (Conv2D)            (None, 148, 148, 32)      896       \n",
      "_________________________________________________________________\n",
      "max_pooling2d_1 (MaxPooling2 (None, 74, 74, 32)        0         \n",
      "_________________________________________________________________\n",
      "conv2d_2 (Conv2D)            (None, 72, 72, 64)        18496     \n",
      "_________________________________________________________________\n",
      "max_pooling2d_2 (MaxPooling2 (None, 36, 36, 64)        0         \n",
      "_________________________________________________________________\n",
      "conv2d_3 (Conv2D)            (None, 34, 34, 128)       73856     \n",
      "_________________________________________________________________\n",
      "max_pooling2d_3 (MaxPooling2 (None, 17, 17, 128)       0         \n",
      "_________________________________________________________________\n",
      "conv2d_4 (Conv2D)            (None, 15, 15, 128)       147584    \n",
      "_________________________________________________________________\n",
      "max_pooling2d_4 (MaxPooling2 (None, 7, 7, 128)         0         \n",
      "_________________________________________________________________\n",
      "flatten_1 (Flatten)          (None, 6272)              0         \n",
      "_________________________________________________________________\n",
      "dense_1 (Dense)              (None, 512)               3211776   \n",
      "_________________________________________________________________\n",
      "dense_2 (Dense)              (None, 1)                 513       \n",
      "=================================================================\n",
      "Total params: 3,453,121\n",
      "Trainable params: 3,453,121\n",
      "Non-trainable params: 0\n",
      "_________________________________________________________________\n"
     ]
    }
   ],
   "source": [
    "model.summary()"
   ]
  },
  {
   "cell_type": "code",
   "execution_count": 58,
   "metadata": {},
   "outputs": [],
   "source": [
    "from keras import optimizers"
   ]
  },
  {
   "cell_type": "code",
   "execution_count": 59,
   "metadata": {},
   "outputs": [
    {
     "name": "stdout",
     "output_type": "stream",
     "text": [
      "WARNING:tensorflow:From /Users/rajaraju/.virtualenvs/DeepLearning/lib/python3.5/site-packages/keras/backend/tensorflow_backend.py:1290: calling reduce_mean (from tensorflow.python.ops.math_ops) with keep_dims is deprecated and will be removed in a future version.\n",
      "Instructions for updating:\n",
      "keep_dims is deprecated, use keepdims instead\n"
     ]
    }
   ],
   "source": [
    "model.compile(loss='binary_crossentropy',\n",
    "             optimizer=optimizers.RMSprop(lr=1e-4),\n",
    "             metrics=['acc'])"
   ]
  },
  {
   "cell_type": "code",
   "execution_count": 60,
   "metadata": {},
   "outputs": [],
   "source": [
    "from keras.preprocessing.image import ImageDataGenerator"
   ]
  },
  {
   "cell_type": "code",
   "execution_count": 62,
   "metadata": {},
   "outputs": [
    {
     "name": "stdout",
     "output_type": "stream",
     "text": [
      "Found 30 images belonging to 2 classes.\n"
     ]
    }
   ],
   "source": [
    "train_data = ImageDataGenerator(rescale=1./255)\n",
    "test_data =ImageDataGenerator(rescale=1./255)\n",
    "\n",
    "train_generator = train_data.flow_from_directory(\n",
    "                    train_dir, target_size=(150,150),\n",
    "                    batch_size=5,\n",
    "                    class_mode='binary')"
   ]
  },
  {
   "cell_type": "code",
   "execution_count": 64,
   "metadata": {},
   "outputs": [
    {
     "name": "stdout",
     "output_type": "stream",
     "text": [
      "data batch shape: (5, 150, 150, 3)\n",
      "labels batch shape: (5,)\n"
     ]
    }
   ],
   "source": [
    "for data_batch, labels_batch in train_generator:\n",
    "    print('data batch shape:',data_batch.shape)\n",
    "    print('labels batch shape:',labels_batch.shape)\n",
    "    break"
   ]
  },
  {
   "cell_type": "code",
   "execution_count": 65,
   "metadata": {},
   "outputs": [
    {
     "data": {
      "text/plain": [
       "(5, 150, 150, 3)"
      ]
     },
     "execution_count": 65,
     "metadata": {},
     "output_type": "execute_result"
    }
   ],
   "source": [
    "data_batch.shape"
   ]
  },
  {
   "cell_type": "code",
   "execution_count": 66,
   "metadata": {},
   "outputs": [
    {
     "data": {
      "text/plain": [
       "(5,)"
      ]
     },
     "execution_count": 66,
     "metadata": {},
     "output_type": "execute_result"
    }
   ],
   "source": [
    "labels_batch.shape"
   ]
  },
  {
   "cell_type": "code",
   "execution_count": 71,
   "metadata": {},
   "outputs": [
    {
     "name": "stdout",
     "output_type": "stream",
     "text": [
      "Epoch 1/30\n",
      "3/3 [==============================] - 2s - loss: 0.8635 - acc: 0.5333     \n",
      "Epoch 2/30\n",
      "3/3 [==============================] - 1s - loss: 0.6787 - acc: 0.7333     \n",
      "Epoch 3/30\n",
      "3/3 [==============================] - 1s - loss: 0.6154 - acc: 0.6667     \n",
      "Epoch 4/30\n",
      "3/3 [==============================] - 1s - loss: 0.6544 - acc: 0.6000     \n",
      "Epoch 5/30\n",
      "3/3 [==============================] - 1s - loss: 0.5784 - acc: 0.7333     \n",
      "Epoch 6/30\n",
      "3/3 [==============================] - 1s - loss: 0.5293 - acc: 0.7333     \n",
      "Epoch 7/30\n",
      "3/3 [==============================] - 1s - loss: 0.4873 - acc: 0.8667     \n",
      "Epoch 8/30\n",
      "3/3 [==============================] - 1s - loss: 0.4654 - acc: 0.8667     \n",
      "Epoch 9/30\n",
      "3/3 [==============================] - 1s - loss: 0.4669 - acc: 0.8000     \n",
      "Epoch 10/30\n",
      "3/3 [==============================] - 1s - loss: 0.6429 - acc: 0.6000     \n",
      "Epoch 11/30\n",
      "3/3 [==============================] - 1s - loss: 0.5367 - acc: 0.7333     \n",
      "Epoch 12/30\n",
      "3/3 [==============================] - 1s - loss: 0.4259 - acc: 0.9333     \n",
      "Epoch 13/30\n",
      "3/3 [==============================] - 1s - loss: 0.4477 - acc: 0.8000     \n",
      "Epoch 14/30\n",
      "3/3 [==============================] - 1s - loss: 0.3531 - acc: 0.9333     \n",
      "Epoch 15/30\n",
      "3/3 [==============================] - 1s - loss: 0.3533 - acc: 0.8667     \n",
      "Epoch 16/30\n",
      "3/3 [==============================] - 1s - loss: 0.3239 - acc: 0.8667     \n",
      "Epoch 17/30\n",
      "3/3 [==============================] - 1s - loss: 0.3816 - acc: 0.8667     \n",
      "Epoch 18/30\n",
      "3/3 [==============================] - 1s - loss: 0.4094 - acc: 0.7333     \n",
      "Epoch 19/30\n",
      "3/3 [==============================] - 1s - loss: 0.2282 - acc: 1.0000     \n",
      "Epoch 20/30\n",
      "3/3 [==============================] - 1s - loss: 0.6592 - acc: 0.6667     \n",
      "Epoch 21/30\n",
      "3/3 [==============================] - 1s - loss: 0.1836 - acc: 1.0000     \n",
      "Epoch 22/30\n",
      "3/3 [==============================] - 1s - loss: 0.2602 - acc: 0.9333     \n",
      "Epoch 23/30\n",
      "3/3 [==============================] - 1s - loss: 0.2043 - acc: 0.9333     \n",
      "Epoch 24/30\n",
      "3/3 [==============================] - 1s - loss: 0.1855 - acc: 1.0000     \n",
      "Epoch 25/30\n",
      "3/3 [==============================] - 1s - loss: 0.2037 - acc: 0.9333     \n",
      "Epoch 26/30\n",
      "3/3 [==============================] - 1s - loss: 0.1336 - acc: 1.0000     \n",
      "Epoch 27/30\n",
      "3/3 [==============================] - 1s - loss: 0.1234 - acc: 1.0000     \n",
      "Epoch 28/30\n",
      "3/3 [==============================] - 1s - loss: 0.1697 - acc: 0.8667     \n",
      "Epoch 29/30\n",
      "3/3 [==============================] - 1s - loss: 0.3129 - acc: 0.8667     \n",
      "Epoch 30/30\n",
      "3/3 [==============================] - 1s - loss: 0.0834 - acc: 1.0000     \n"
     ]
    }
   ],
   "source": [
    "history = model.fit_generator(\n",
    "            train_generator,\n",
    "            steps_per_epoch=3,\n",
    "            epochs=30)"
   ]
  },
  {
   "cell_type": "code",
   "execution_count": 72,
   "metadata": {},
   "outputs": [],
   "source": [
    "model.save('cuckoo_and_sparrow_small_1.h5')"
   ]
  },
  {
   "cell_type": "code",
   "execution_count": 73,
   "metadata": {},
   "outputs": [],
   "source": [
    "import matplotlib.pyplot as plt\n",
    "%matplotlib inline"
   ]
  },
  {
   "cell_type": "code",
   "execution_count": null,
   "metadata": {},
   "outputs": [],
   "source": [
    "acc = history.history['acc']\n"
   ]
  }
 ],
 "metadata": {
  "kernelspec": {
   "display_name": "Python 3",
   "language": "python",
   "name": "python3"
  },
  "language_info": {
   "codemirror_mode": {
    "name": "ipython",
    "version": 3
   },
   "file_extension": ".py",
   "mimetype": "text/x-python",
   "name": "python",
   "nbconvert_exporter": "python",
   "pygments_lexer": "ipython3",
   "version": "3.5.1"
  }
 },
 "nbformat": 4,
 "nbformat_minor": 2
}
